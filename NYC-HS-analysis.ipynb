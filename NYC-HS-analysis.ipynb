{
 "cells": [
  {
   "cell_type": "code",
   "execution_count": 1,
   "metadata": {},
   "outputs": [
    {
     "name": "stderr",
     "output_type": "stream",
     "text": [
      "Matplotlib is building the font cache using fc-list. This may take a moment.\n"
     ]
    }
   ],
   "source": [
    "import pandas as pd\n",
    "import numpy as np\n",
    "import scipy as sp\n",
    "import matplotlib.pyplot as plt\n",
    "\n",
    "%matplotlib notebook"
   ]
  },
  {
   "cell_type": "code",
   "execution_count": 94,
   "metadata": {},
   "outputs": [],
   "source": [
    "dfs_full = pd.read_csv('/Users/azadehkeivani/Desktop/DataScience/NYC-HS/2019_DOE_High_School_Directory.csv')"
   ]
  },
  {
   "cell_type": "code",
   "execution_count": 95,
   "metadata": {},
   "outputs": [
    {
     "data": {
      "text/html": [
       "<div>\n",
       "<style scoped>\n",
       "    .dataframe tbody tr th:only-of-type {\n",
       "        vertical-align: middle;\n",
       "    }\n",
       "\n",
       "    .dataframe tbody tr th {\n",
       "        vertical-align: top;\n",
       "    }\n",
       "\n",
       "    .dataframe thead th {\n",
       "        text-align: right;\n",
       "    }\n",
       "</style>\n",
       "<table border=\"1\" class=\"dataframe\">\n",
       "  <thead>\n",
       "    <tr style=\"text-align: right;\">\n",
       "      <th></th>\n",
       "      <th>dbn</th>\n",
       "      <th>school_name</th>\n",
       "      <th>boro</th>\n",
       "      <th>overview_paragraph</th>\n",
       "      <th>school_10th_seats</th>\n",
       "      <th>academicopportunities1</th>\n",
       "      <th>academicopportunities2</th>\n",
       "      <th>academicopportunities3</th>\n",
       "      <th>academicopportunities4</th>\n",
       "      <th>academicopportunities5</th>\n",
       "      <th>...</th>\n",
       "      <th>state_code</th>\n",
       "      <th>Borough</th>\n",
       "      <th>Latitude</th>\n",
       "      <th>Longitude</th>\n",
       "      <th>Community Board</th>\n",
       "      <th>Council District</th>\n",
       "      <th>Census Tract</th>\n",
       "      <th>BIN</th>\n",
       "      <th>BBL</th>\n",
       "      <th>NTA</th>\n",
       "    </tr>\n",
       "  </thead>\n",
       "  <tbody>\n",
       "    <tr>\n",
       "      <td>0</td>\n",
       "      <td>16K498</td>\n",
       "      <td>Brooklyn High School for Law and Technology</td>\n",
       "      <td>K</td>\n",
       "      <td>The mission of Brooklyn High School for Law an...</td>\n",
       "      <td>Y</td>\n",
       "      <td>iLearnNYC: Program for expanded online coursew...</td>\n",
       "      <td>Access to Law and Technology Programs: Youth C...</td>\n",
       "      <td>Computer Programming, iCareers, Online courses...</td>\n",
       "      <td>Multicultural Literature, Conflict Resolution/...</td>\n",
       "      <td>NaN</td>\n",
       "      <td>...</td>\n",
       "      <td>NY</td>\n",
       "      <td>BROOKLYN</td>\n",
       "      <td>40.688831</td>\n",
       "      <td>-73.920906</td>\n",
       "      <td>3</td>\n",
       "      <td>41</td>\n",
       "      <td>375</td>\n",
       "      <td>3039676.0</td>\n",
       "      <td>3.014820e+09</td>\n",
       "      <td>Stuyvesant Heights                            ...</td>\n",
       "    </tr>\n",
       "    <tr>\n",
       "      <td>1</td>\n",
       "      <td>17K524</td>\n",
       "      <td>International High School at Prospect Heights</td>\n",
       "      <td>K</td>\n",
       "      <td>We are a small school that works in teams to p...</td>\n",
       "      <td>Y</td>\n",
       "      <td>We are a Performance-Based Assessment school, ...</td>\n",
       "      <td>Safe, supportive, and nurturing environment wh...</td>\n",
       "      <td>We are a Computer Science for All school. Thro...</td>\n",
       "      <td>All students are matched to an internship in t...</td>\n",
       "      <td>Afterschool programs include: Peer Tutoring, A...</td>\n",
       "      <td>...</td>\n",
       "      <td>NY</td>\n",
       "      <td>BROOKLYN</td>\n",
       "      <td>40.670349</td>\n",
       "      <td>-73.961695</td>\n",
       "      <td>9</td>\n",
       "      <td>35</td>\n",
       "      <td>213</td>\n",
       "      <td>3029686.0</td>\n",
       "      <td>3.011870e+09</td>\n",
       "      <td>Crown Heights South                           ...</td>\n",
       "    </tr>\n",
       "    <tr>\n",
       "      <td>2</td>\n",
       "      <td>02M531</td>\n",
       "      <td>Repertory Company High School for Theatre Arts</td>\n",
       "      <td>M</td>\n",
       "      <td>We offer a college-preparatory program and New...</td>\n",
       "      <td>Y</td>\n",
       "      <td>iLearnNYC: Program for expanded online coursew...</td>\n",
       "      <td>Advisory, Acting, Playwriting, Stagecraft, Mus...</td>\n",
       "      <td>National Honor Society, yearly grade-level res...</td>\n",
       "      <td>Learning Through Expanded Arts Playwriting Pro...</td>\n",
       "      <td>Roundabout Theatre Company (Playwriting, IATSE...</td>\n",
       "      <td>...</td>\n",
       "      <td>NY</td>\n",
       "      <td>MANHATTAN</td>\n",
       "      <td>40.755843</td>\n",
       "      <td>-73.984382</td>\n",
       "      <td>5</td>\n",
       "      <td>4</td>\n",
       "      <td>119</td>\n",
       "      <td>1022615.0</td>\n",
       "      <td>1.009960e+09</td>\n",
       "      <td>Midtown-Midtown South                         ...</td>\n",
       "    </tr>\n",
       "    <tr>\n",
       "      <td>3</td>\n",
       "      <td>05M670</td>\n",
       "      <td>Thurgood Marshall Academy for Learning and Soc...</td>\n",
       "      <td>M</td>\n",
       "      <td>Thurgood Marshall Academy is an academically r...</td>\n",
       "      <td>Y</td>\n",
       "      <td>We offer a Regents curriculum designed to grad...</td>\n",
       "      <td>Enrichment: Early College High School Program,...</td>\n",
       "      <td>College and Career Readiness: On-site College ...</td>\n",
       "      <td>Community Service and Internship: Abyssinian D...</td>\n",
       "      <td>Partnerships: Columbia University, Northside C...</td>\n",
       "      <td>...</td>\n",
       "      <td>NY</td>\n",
       "      <td>MANHATTAN</td>\n",
       "      <td>40.815509</td>\n",
       "      <td>-73.944202</td>\n",
       "      <td>10</td>\n",
       "      <td>9</td>\n",
       "      <td>228</td>\n",
       "      <td>1058843.0</td>\n",
       "      <td>1.019400e+09</td>\n",
       "      <td>Central Harlem North-Polo Grounds             ...</td>\n",
       "    </tr>\n",
       "    <tr>\n",
       "      <td>4</td>\n",
       "      <td>15K423</td>\n",
       "      <td>Brooklyn Frontiers High School</td>\n",
       "      <td>K</td>\n",
       "      <td>Brooklyn Frontiers High School serves entering...</td>\n",
       "      <td>NaN</td>\n",
       "      <td>Partnership with Good Shepherd Services: coach...</td>\n",
       "      <td>Small classes, many co-taught by two teachers</td>\n",
       "      <td>Many opportunities for tutoring and support, b...</td>\n",
       "      <td>Paid Learning to Work Internships</td>\n",
       "      <td>NaN</td>\n",
       "      <td>...</td>\n",
       "      <td>NY</td>\n",
       "      <td>BROOKLYN</td>\n",
       "      <td>40.690145</td>\n",
       "      <td>-73.989132</td>\n",
       "      <td>2</td>\n",
       "      <td>33</td>\n",
       "      <td>43</td>\n",
       "      <td>3000533.0</td>\n",
       "      <td>3.001690e+09</td>\n",
       "      <td>DUMBO-Vinegar Hill-Downtown Brooklyn-Boerum Hi...</td>\n",
       "    </tr>\n",
       "  </tbody>\n",
       "</table>\n",
       "<p>5 rows × 462 columns</p>\n",
       "</div>"
      ],
      "text/plain": [
       "      dbn                                        school_name boro  \\\n",
       "0  16K498        Brooklyn High School for Law and Technology    K   \n",
       "1  17K524      International High School at Prospect Heights    K   \n",
       "2  02M531     Repertory Company High School for Theatre Arts    M   \n",
       "3  05M670  Thurgood Marshall Academy for Learning and Soc...    M   \n",
       "4  15K423                     Brooklyn Frontiers High School    K   \n",
       "\n",
       "                                  overview_paragraph school_10th_seats  \\\n",
       "0  The mission of Brooklyn High School for Law an...                 Y   \n",
       "1  We are a small school that works in teams to p...                 Y   \n",
       "2  We offer a college-preparatory program and New...                 Y   \n",
       "3  Thurgood Marshall Academy is an academically r...                 Y   \n",
       "4  Brooklyn Frontiers High School serves entering...               NaN   \n",
       "\n",
       "                              academicopportunities1  \\\n",
       "0  iLearnNYC: Program for expanded online coursew...   \n",
       "1  We are a Performance-Based Assessment school, ...   \n",
       "2  iLearnNYC: Program for expanded online coursew...   \n",
       "3  We offer a Regents curriculum designed to grad...   \n",
       "4  Partnership with Good Shepherd Services: coach...   \n",
       "\n",
       "                              academicopportunities2  \\\n",
       "0  Access to Law and Technology Programs: Youth C...   \n",
       "1  Safe, supportive, and nurturing environment wh...   \n",
       "2  Advisory, Acting, Playwriting, Stagecraft, Mus...   \n",
       "3  Enrichment: Early College High School Program,...   \n",
       "4      Small classes, many co-taught by two teachers   \n",
       "\n",
       "                              academicopportunities3  \\\n",
       "0  Computer Programming, iCareers, Online courses...   \n",
       "1  We are a Computer Science for All school. Thro...   \n",
       "2  National Honor Society, yearly grade-level res...   \n",
       "3  College and Career Readiness: On-site College ...   \n",
       "4  Many opportunities for tutoring and support, b...   \n",
       "\n",
       "                              academicopportunities4  \\\n",
       "0  Multicultural Literature, Conflict Resolution/...   \n",
       "1  All students are matched to an internship in t...   \n",
       "2  Learning Through Expanded Arts Playwriting Pro...   \n",
       "3  Community Service and Internship: Abyssinian D...   \n",
       "4                  Paid Learning to Work Internships   \n",
       "\n",
       "                              academicopportunities5  ... state_code  \\\n",
       "0                                                NaN  ...         NY   \n",
       "1  Afterschool programs include: Peer Tutoring, A...  ...         NY   \n",
       "2  Roundabout Theatre Company (Playwriting, IATSE...  ...         NY   \n",
       "3  Partnerships: Columbia University, Northside C...  ...         NY   \n",
       "4                                                NaN  ...         NY   \n",
       "\n",
       "     Borough   Latitude  Longitude Community Board Council District  \\\n",
       "0  BROOKLYN   40.688831 -73.920906               3               41   \n",
       "1  BROOKLYN   40.670349 -73.961695               9               35   \n",
       "2  MANHATTAN  40.755843 -73.984382               5                4   \n",
       "3  MANHATTAN  40.815509 -73.944202              10                9   \n",
       "4  BROOKLYN   40.690145 -73.989132               2               33   \n",
       "\n",
       "  Census Tract        BIN           BBL  \\\n",
       "0          375  3039676.0  3.014820e+09   \n",
       "1          213  3029686.0  3.011870e+09   \n",
       "2          119  1022615.0  1.009960e+09   \n",
       "3          228  1058843.0  1.019400e+09   \n",
       "4           43  3000533.0  3.001690e+09   \n",
       "\n",
       "                                                 NTA  \n",
       "0  Stuyvesant Heights                            ...  \n",
       "1  Crown Heights South                           ...  \n",
       "2  Midtown-Midtown South                         ...  \n",
       "3  Central Harlem North-Polo Grounds             ...  \n",
       "4  DUMBO-Vinegar Hill-Downtown Brooklyn-Boerum Hi...  \n",
       "\n",
       "[5 rows x 462 columns]"
      ]
     },
     "execution_count": 95,
     "metadata": {},
     "output_type": "execute_result"
    }
   ],
   "source": [
    "dfs_full.head(5)"
   ]
  },
  {
   "cell_type": "code",
   "execution_count": 96,
   "metadata": {},
   "outputs": [
    {
     "data": {
      "text/plain": [
       "427"
      ]
     },
     "execution_count": 96,
     "metadata": {},
     "output_type": "execute_result"
    }
   ],
   "source": [
    "len(dfs_full)"
   ]
  },
  {
   "cell_type": "code",
   "execution_count": 97,
   "metadata": {},
   "outputs": [],
   "source": [
    "college_rate = dfs_full['college_career_rate'][dfs_full['college_career_rate'].isna()==False]"
   ]
  },
  {
   "cell_type": "code",
   "execution_count": 118,
   "metadata": {},
   "outputs": [
    {
     "data": {
      "image/png": "[encoded data removed]",
      "text/plain": [
       "<Figure size 720x432 with 1 Axes>"
      ]
     },
     "metadata": {
      "needs_background": "light"
     },
     "output_type": "display_data"
    }
   ],
   "source": [
    "plt.hist(college_rate, 50)\n",
    "plt.xlabel('College Career Rate')\n",
    "plt.ylabel('Frequency')\n",
    "plt.suptitle('College career rate histogram')\n",
    "plt.show()\n",
    "#At the end of the school year, the percent of students who graduated from high school four years after they entered 9th grade and then enrolled in college, a vocational program, or a public service program within six months of graduation"
   ]
  },
  {
   "cell_type": "code",
   "execution_count": 99,
   "metadata": {},
   "outputs": [
    {
     "data": {
      "text/plain": [
       "384"
      ]
     },
     "execution_count": 99,
     "metadata": {},
     "output_type": "execute_result"
    }
   ],
   "source": [
    "len(college_rate)"
   ]
  },
  {
   "cell_type": "code",
   "execution_count": 100,
   "metadata": {},
   "outputs": [
    {
     "data": {
      "text/plain": [
       "0.5928385416666667"
      ]
     },
     "execution_count": 100,
     "metadata": {},
     "output_type": "execute_result"
    }
   ],
   "source": [
    "np.mean(college_rate)"
   ]
  },
  {
   "cell_type": "code",
   "execution_count": 101,
   "metadata": {},
   "outputs": [],
   "source": [
    "ext_act = dfs_full['extracurricular_activities'][dfs_full['college_career_rate'].isna()==False].fillna('nothing')"
   ]
  },
  {
   "cell_type": "code",
   "execution_count": 102,
   "metadata": {},
   "outputs": [
    {
     "data": {
      "text/plain": [
       "0                                                nothing\n",
       "1                                                nothing\n",
       "2      A Cappella Chorus, Advanced Dance/Chorus/Tech/...\n",
       "3      Cheerleading, Dance, Fashion, National Honor S...\n",
       "6      3D Modeling and Robotics, Body Love, Bollywood...\n",
       "                             ...                        \n",
       "422    Algebra for All, Black Latino Alliance Tacklin...\n",
       "423    Gateway to Higher Education International Club...\n",
       "424    AVID Elective Class, AVID Tutoring, Circle Adv...\n",
       "425    National Honor Society, Student Government, Fi...\n",
       "426    Art, Astronomy, Band, Cheerleading, Chorus, Cr...\n",
       "Name: extracurricular_activities, Length: 384, dtype: object"
      ]
     },
     "execution_count": 102,
     "metadata": {},
     "output_type": "execute_result"
    }
   ],
   "source": [
    "ext_act"
   ]
  },
  {
   "cell_type": "code",
   "execution_count": 103,
   "metadata": {},
   "outputs": [
    {
     "data": {
      "text/plain": [
       "384"
      ]
     },
     "execution_count": 103,
     "metadata": {},
     "output_type": "execute_result"
    }
   ],
   "source": [
    "len(ext_act)"
   ]
  },
  {
   "cell_type": "code",
   "execution_count": 110,
   "metadata": {},
   "outputs": [],
   "source": [
    "ext_act_split = ext_act.str.split(',').reset_index(drop=True)"
   ]
  },
  {
   "cell_type": "code",
   "execution_count": 111,
   "metadata": {},
   "outputs": [
    {
     "data": {
      "text/plain": [
       "0                                              [nothing]\n",
       "1                                              [nothing]\n",
       "2      [A Cappella Chorus,  Advanced Dance/Chorus/Tec...\n",
       "3      [Cheerleading,  Dance,  Fashion,  National Hon...\n",
       "4      [3D Modeling and Robotics,  Body Love,  Bollyw...\n",
       "                             ...                        \n",
       "379    [Algebra for All,  Black Latino Alliance Tackl...\n",
       "380    [Gateway to Higher Education International Clu...\n",
       "381    [AVID Elective Class,  AVID Tutoring,  Circle ...\n",
       "382    [National Honor Society,  Student Government, ...\n",
       "383    [Art,  Astronomy,  Band,  Cheerleading,  Choru...\n",
       "Name: extracurricular_activities, Length: 384, dtype: object"
      ]
     },
     "execution_count": 111,
     "metadata": {},
     "output_type": "execute_result"
    }
   ],
   "source": [
    "ext_act_split"
   ]
  },
  {
   "cell_type": "code",
   "execution_count": 112,
   "metadata": {},
   "outputs": [
    {
     "name": "stdout",
     "output_type": "stream",
     "text": [
      "[0, 0, 22, 11, 31, 24, 12, 0, 11, 15, 26, 14, 11, 18, 18, 19, 11, 17, 26, 38, 0, 22, 23, 0, 26, 24, 25, 31, 0, 24, 21, 8, 20, 13, 24, 31, 38, 13, 32, 10, 22, 14, 21, 23, 25, 11, 20, 20, 8, 46, 12, 30, 9, 0, 7, 29, 28, 20, 14, 16, 8, 0, 17, 17, 22, 23, 7, 12, 3, 15, 28, 27, 26, 16, 33, 17, 18, 17, 8, 13, 19, 15, 16, 1, 19, 14, 36, 16, 12, 12, 19, 12, 11, 22, 30, 37, 12, 16, 15, 18, 13, 25, 17, 21, 14, 12, 14, 21, 17, 30, 17, 13, 22, 24, 15, 31, 26, 20, 10, 15, 18, 20, 24, 14, 36, 23, 9, 27, 11, 13, 0, 25, 0, 24, 18, 29, 32, 19, 10, 18, 15, 24, 11, 0, 16, 20, 1, 15, 0, 12, 28, 18, 9, 27, 25, 12, 13, 16, 0, 31, 0, 12, 26, 12, 18, 11, 8, 24, 8, 19, 1, 21, 22, 16, 23, 27, 14, 8, 24, 39, 18, 19, 24, 23, 21, 28, 18, 6, 16, 32, 31, 0, 13, 21, 10, 7, 11, 24, 21, 24, 33, 38, 22, 18, 16, 50, 27, 12, 15, 33, 12, 24, 23, 15, 23, 5, 33, 30, 32, 20, 29, 24, 15, 22, 11, 22, 14, 9, 21, 0, 15, 14, 29, 41, 16, 12, 26, 22, 15, 20, 11, 14, 25, 16, 0, 17, 38, 23, 8, 12, 13, 14, 11, 10, 37, 20, 17, 14, 12, 28, 5, 22, 19, 0, 23, 5, 19, 30, 17, 24, 18, 0, 12, 9, 0, 15, 13, 24, 12, 16, 9, 8, 14, 6, 14, 25, 30, 12, 22, 8, 27, 8, 12, 28, 14, 30, 14, 0, 22, 13, 13, 22, 19, 12, 12, 15, 24, 0, 25, 18, 10, 35, 17, 10, 39, 11, 6, 12, 13, 0, 24, 0, 26, 21, 16, 0, 15, 13, 9, 0, 16, 44, 27, 18, 11, 39, 13, 19, 39, 18, 15, 2, 0, 14, 0, 22, 24, 33, 15, 13, 0, 16, 29, 25, 28, 12, 30, 23, 15, 44, 6, 21, 49, 34, 19, 15, 0, 13, 15, 22, 26, 23, 17, 24, 19, 26, 17, 17, 0, 19, 1, 26, 22, 31]\n"
     ]
    }
   ],
   "source": [
    "ext_act_num=[]\n",
    "for i in range(len(ext_act_split)):\n",
    "    if ext_act_split[i]==['nothing']:\n",
    "        ext_act_num.append(0)\n",
    "    else:\n",
    "        ext_act_num.append(len(ext_act_split[i]))\n",
    "print(ext_act_num)"
   ]
  },
  {
   "cell_type": "code",
   "execution_count": 113,
   "metadata": {},
   "outputs": [
    {
     "data": {
      "text/plain": [
       "384"
      ]
     },
     "execution_count": 113,
     "metadata": {},
     "output_type": "execute_result"
    }
   ],
   "source": [
    "len(ext_act_num)"
   ]
  },
  {
   "cell_type": "code",
   "execution_count": 117,
   "metadata": {},
   "outputs": [
    {
     "name": "stdout",
     "output_type": "stream",
     "text": [
      "Populating the interactive namespace from numpy and matplotlib\n"
     ]
    },
    {
     "data": {
      "image/png": "[encoded data removed]",
      "text/plain": [
       "<Figure size 720x432 with 1 Axes>"
      ]
     },
     "metadata": {
      "needs_background": "light"
     },
     "output_type": "display_data"
    }
   ],
   "source": [
    "%pylab inline\n",
    "pylab.rcParams['figure.figsize'] = (10,6)\n",
    "\n",
    "fig, ax = plt.subplots()\n",
    "\n",
    "#ax.scatter(college_rate,ext_act_num, marker='*')\n",
    "ax.hist2d(college_rate,ext_act_num,bins=50)\n",
    "\n",
    "ax.set_xlabel('College Career Rate',fontsize=15)\n",
    "ax.set_ylabel('Number of Extracurricular Activities',fontsize=15)\n",
    "ax.set_title('College Career Rate vs Number of Extracurricular Activities\\n New York City High Schools',fontsize=15)\n",
    "\n",
    "ax.tick_params(axis = 'both', labelsize = 15)"
   ]
  },
  {
   "cell_type": "code",
   "execution_count": null,
   "metadata": {},
   "outputs": [],
   "source": []
  }
 ],
 "metadata": {
  "kernelspec": {
   "display_name": "Python 3",
   "language": "python",
   "name": "python3"
  },
  "language_info": {
   "codemirror_mode": {
    "name": "ipython",
    "version": 3
   },
   "file_extension": ".py",
   "mimetype": "text/x-python",
   "name": "python",
   "nbconvert_exporter": "python",
   "pygments_lexer": "ipython3",
   "version": "3.7.4"
  }
 },
 "nbformat": 4,
 "nbformat_minor": 2
}
